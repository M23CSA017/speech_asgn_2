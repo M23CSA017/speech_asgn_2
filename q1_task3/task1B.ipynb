{
 "cells": [
  {
   "cell_type": "markdown",
   "metadata": {},
   "source": [
    "### Data Preparation"
   ]
  },
  {
   "cell_type": "code",
   "execution_count": null,
   "metadata": {},
   "outputs": [],
   "source": [
    "import os\n",
    "import glob\n",
    "import json\n",
    "\n",
    "# Base path to aac audio directory\n",
    "aac_root = \"/DATA2/PMCAll/speech/vox2/aac\"\n",
    "\n",
    "# List and sort all speaker folders\n",
    "all_speakers = sorted([\n",
    "    d for d in os.listdir(aac_root)\n",
    "    if os.path.isdir(os.path.join(aac_root, d)) and d.startswith(\"id\")\n",
    "])\n",
    "\n",
    "# Split into train and test\n",
    "train_speakers = all_speakers[:50]\n",
    "test_speakers = all_speakers[50:100]\n",
    "\n",
    "def build_utterance_map(speaker_ids, save_path):\n",
    "    utt_map = {}\n",
    "    for speaker_id in speaker_ids:\n",
    "        speaker_dir = os.path.join(aac_root, speaker_id)\n",
    "        # Recursively find all .m4a files for the speaker\n",
    "        m4a_files = glob.glob(os.path.join(speaker_dir, \"*\", \"*.m4a\"))\n",
    "        if m4a_files:\n",
    "            utt_map[speaker_id] = sorted(m4a_files)\n",
    "    # Save mapping to JSON\n",
    "    with open(save_path, \"w\") as f:\n",
    "        json.dump(utt_map, f, indent=2)\n",
    "    print(f\"Saved: {save_path} ({len(utt_map)} speakers)\")\n",
    "\n",
    "# Build and save both maps\n",
    "build_utterance_map(train_speakers, \"train_utterance_map.json\")\n",
    "build_utterance_map(test_speakers, \"test_utterance_map.json\")\n"
   ]
  },
  {
   "cell_type": "code",
   "execution_count": null,
   "metadata": {},
   "outputs": [],
   "source": [
    "import json\n",
    "import random\n",
    "\n",
    "# Load speaker-to-utterance mappings\n",
    "with open(\"train_utterance_map.json\", \"r\") as f:\n",
    "    train_utt_map = json.load(f)\n",
    "\n",
    "with open(\"test_utterance_map.json\", \"r\") as f:\n",
    "    test_utt_map = json.load(f)\n",
    "\n",
    "def generate_pairings(utt_map, num_pairs=1000):\n",
    "    \"\"\"Generate random pairs of utterances from different speakers.\"\"\"\n",
    "    speaker_ids = list(utt_map.keys())\n",
    "    metadata = {}\n",
    "\n",
    "    for i in range(num_pairs):\n",
    "        # Randomly select two different speakers\n",
    "        spk1, spk2 = random.sample(speaker_ids, 2)\n",
    "\n",
    "        # Randomly select an utterance for each speaker\n",
    "        utt1_path = random.choice(utt_map[spk1])\n",
    "        utt2_path = random.choice(utt_map[spk2])\n",
    "\n",
    "        mix_id = f\"mix_{i+1:05d}\"\n",
    "        metadata[mix_id] = {\n",
    "            \"speaker1_id\": spk1,\n",
    "            \"utt1_path\": utt1_path,\n",
    "            \"speaker2_id\": spk2,\n",
    "            \"utt2_path\": utt2_path\n",
    "        }\n",
    "\n",
    "    return metadata\n",
    "\n",
    "# Generate 1000 pairings for training and 200 for testing\n",
    "train_metadata = generate_pairings(train_utt_map, num_pairs=1000)\n",
    "test_metadata = generate_pairings(test_utt_map, num_pairs=200)\n",
    "\n",
    "# Save metadata to JSON files\n",
    "with open(\"train_voxmix_metadata.json\", \"w\") as f:\n",
    "    json.dump(train_metadata, f, indent=2)\n",
    "\n",
    "with open(\"test_voxmix_metadata.json\", \"w\") as f:\n",
    "    json.dump(test_metadata, f, indent=2)\n",
    "\n",
    "print(\"Pairing metadata generated successfully!\")\n"
   ]
  },
  {
   "cell_type": "code",
   "execution_count": null,
   "metadata": {},
   "outputs": [],
   "source": []
  }
 ],
 "metadata": {
  "kernelspec": {
   "display_name": "Python 3",
   "language": "python",
   "name": "python3"
  },
  "language_info": {
   "codemirror_mode": {
    "name": "ipython",
    "version": 3
   },
   "file_extension": ".py",
   "mimetype": "text/x-python",
   "name": "python",
   "nbconvert_exporter": "python",
   "pygments_lexer": "ipython3",
   "version": "3.10.16"
  }
 },
 "nbformat": 4,
 "nbformat_minor": 2
}
